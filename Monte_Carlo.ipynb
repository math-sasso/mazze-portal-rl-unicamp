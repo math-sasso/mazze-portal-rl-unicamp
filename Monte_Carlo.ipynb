{
 "cells": [
  {
   "source": [
    "# $$ Monte Carlo - First Visit $$"
   ],
   "cell_type": "markdown",
   "metadata": {}
  },
  {
   "source": [
    "## Imports"
   ],
   "cell_type": "markdown",
   "metadata": {}
  },
  {
   "cell_type": "code",
   "execution_count": 1,
   "metadata": {},
   "outputs": [],
   "source": [
    "# imports from libs\n",
    "import sys\n",
    "import numpy as np\n",
    "import math\n",
    "import random\n",
    "import gym\n",
    "import gym_maze\n",
    "import os\n",
    "from collections import defaultdict\n",
    "\n",
    "# imports from project\n",
    "from utils.plotting import plot_line_graphs_overlayed\n",
    "from utils.file_management import create_folder_structure\n",
    "from utils.file_management import save_nparray_to_folder"
   ]
  },
  {
   "source": [
    "## Setting Saving Directory"
   ],
   "cell_type": "markdown",
   "metadata": {}
  },
  {
   "cell_type": "code",
   "execution_count": 2,
   "metadata": {},
   "outputs": [
    {
     "output_type": "execute_result",
     "data": {
      "text/plain": [
       "'c:\\\\Users\\\\msasso\\\\Desktop\\\\mazze-portal-rl-unicamp\\\\results\\\\MC'"
      ]
     },
     "metadata": {},
     "execution_count": 2
    }
   ],
   "source": [
    "cwd = os.getcwd()\n",
    "SAVING_RESULTS_FODLER = os.path.join(cwd,\"results\",\"MC\")\n",
    "SAVING_RESULTS_FODLER"
   ]
  },
  {
   "source": [
    "## Constants"
   ],
   "cell_type": "markdown",
   "metadata": {}
  },
  {
   "cell_type": "code",
   "execution_count": 3,
   "metadata": {},
   "outputs": [
    {
     "output_type": "stream",
     "name": "stdout",
     "text": [
      "pygame 2.0.0 (SDL 2.0.12, python 3.7.4)\nHello from the pygame community. https://www.pygame.org/contribute.html\n"
     ]
    }
   ],
   "source": [
    "# Initialize the \"maze\" environment\n",
    "env = gym.make(\"maze-random-10x10-plus-v0\")\n",
    "\n",
    "'''\n",
    "Defining the environment related constants\n",
    "'''\n",
    "# Number of discrete states (bucket) per state dimension\n",
    "MAZE_SIZE = tuple((env.observation_space.high + np.ones(env.observation_space.shape)).astype(int))\n",
    "NUM_BUCKETS = MAZE_SIZE  # one bucket per grid\n",
    "\n",
    "# Number of discrete actions\n",
    "NUM_ACTIONS = env.action_space.n  # [\"N\", \"S\", \"E\", \"W\"]\n",
    "# Bounds for each discrete state\n",
    "STATE_BOUNDS = list(zip(env.observation_space.low, env.observation_space.high))\n",
    "\n",
    "'''\n",
    "Learning related constants\n",
    "'''\n",
    "MIN_EXPLORE_RATE = 0.001\n",
    "MIN_LEARNING_RATE = 0.2\n",
    "DECAY_FACTOR = np.prod(MAZE_SIZE, dtype=float) / 10.0\n",
    "\n",
    "'''\n",
    "Defining the simulation related constants\n",
    "'''\n",
    "NUM_EPISODES = 1000\n",
    "MAX_T = np.prod(MAZE_SIZE, dtype=int) * 100\n",
    "STREAK_TO_END = 100\n",
    "SOLVED_T = np.prod(MAZE_SIZE, dtype=int)\n",
    "DEBUG_MODE = 0\n",
    "RENDER_MAZE = False\n",
    "ENABLE_RECORDING = False\n",
    "\n",
    "'''\n",
    "Q-Learning Related Constants\n",
    "'''\n",
    "DISCOUNT_FACTOR = 0.99\n",
    "\n",
    "'''\n",
    "CREATING RESULTS SAVING FOLDERS\n",
    "'''\n",
    "SAVING_RESULTS_IMAGE_FODLER = os.path.join(SAVING_RESULTS_FODLER,\"images\")\n",
    "SAVING_RESULTS_VIDEO_FODLER = os.path.join(SAVING_RESULTS_FODLER,\"videos\")\n",
    "SAVING_RESULTS_ARRAY_FODLER = os.path.join(SAVING_RESULTS_FODLER,\"arrays\")\n",
    "create_folder_structure(SAVING_RESULTS_IMAGE_FODLER)\n",
    "create_folder_structure(SAVING_RESULTS_VIDEO_FODLER)\n",
    "create_folder_structure(SAVING_RESULTS_ARRAY_FODLER)\n",
    "\n",
    "'''\n",
    "ENABLE RECORDING\n",
    "'''\n",
    "if ENABLE_RECORDING:\n",
    "    env = gym.wrappers.Monitor(env,SAVING_RESULTS_VIDEO_FODLER, force=True)"
   ]
  },
  {
   "source": [
    "## Algorithm Simulation"
   ],
   "cell_type": "markdown",
   "metadata": {}
  },
  {
   "cell_type": "code",
   "execution_count": 16,
   "metadata": {},
   "outputs": [],
   "source": [
    "def simulate(discount_factor:float= 0.99):\n",
    "    \"\"\"Simulate Q-Learning Algorythim .\n",
    "\n",
    "    Args:\n",
    "        discount_factor (float): gamma.\n",
    "\n",
    "    Returns:\n",
    "        np.array(reward_episode_list): Numpy array with the episodes rewards\n",
    "        np.array(explore_rate_episode_list): Numpy array with the episodes explore rates\n",
    "        np.array(learning_rate_episode_list): Numpy array with the episodes learning rates\n",
    "        np.array(num_streaks_episode_list): Numpy array with the episodes number of mazze completions\n",
    "        np.array(length_episode_list): Numpy array with the episodes lengths\n",
    "    \"\"\"\n",
    "\n",
    "    #creating episodes results lists\n",
    "    \n",
    "    reward_episode_list = []\n",
    "    explore_rate_episode_list = []\n",
    "    learning_rate_episode_list = []\n",
    "    num_streaks_episode_list = []\n",
    "    length_episode_list = []\n",
    "\n",
    "    # Instantiating the learning related parameters\n",
    "    learning_rate = get_learning_rate(0)\n",
    "    explore_rate = get_explore_rate(0)\n",
    "\n",
    "    # Render tha maze\n",
    "    env.render()\n",
    "\n",
    "    # Initialize q_table\n",
    "    q_table = np.zeros(NUM_BUCKETS + (NUM_ACTIONS,), dtype=float)\n",
    "\n",
    "    #Initializain num streaks\n",
    "    num_streaks= 0\n",
    "    num_streaks_copy = 0\n",
    "\n",
    "\n",
    "    # Keeps track of sum and count of returns for each state\n",
    "    # to calculate an average. We could use an array to save all\n",
    "    # returns (like in the book) but that's memory inefficient.\n",
    "    returns_sum = defaultdict(float)\n",
    "    returns_count = defaultdict(float)\n",
    "\n",
    "    for episode in range(NUM_EPISODES):\n",
    "\n",
    "        # Reset the environment\n",
    "        obv = env.reset()\n",
    "\n",
    "        # the initial state\n",
    "        state_0 = state_to_bucket(obv)\n",
    "        total_reward = 0\n",
    "\n",
    "        # Generate an episode.\n",
    "        # An episode_array is an array of (state, action, reward) tuples\n",
    "        episode_array = []\n",
    "\n",
    "        for t in range(MAX_T):\n",
    "            action = epsilon_greedy_police(state_0, explore_rate,q_table)\n",
    "            obv, reward, done, _ = env.step(action)\n",
    "            next_state = state_to_bucket(obv)\n",
    "            total_reward += reward\n",
    "            episode_array.append((state_0, action, reward)) # tuple transforma array([0,0]) em (0,0)\n",
    "\n",
    "             # Print data\n",
    "            if DEBUG_MODE == 2:\n",
    "                print(\"\\nEpisode = %d\" % episode)\n",
    "                print(\"t = %d\" % t)\n",
    "                print(\"Action: %d\" % action)\n",
    "                print(\"State: %s\" % str(state_0))\n",
    "                print(\"Reward: %f\" % reward)\n",
    "                print(\"Explore rate: %f\" % explore_rate)\n",
    "                print(\"Learning rate: %f\" % learning_rate)\n",
    "                print(\"Streaks: %d\" % num_streaks)\n",
    "                print(\"\")\n",
    "\n",
    "            elif DEBUG_MODE == 1:\n",
    "                if done or t >= MAX_T - 1:\n",
    "                    print(\"\\nEpisode = %d\" % episode)\n",
    "                    print(\"t = %d\" % t)\n",
    "                    print(\"Explore rate: %f\" % explore_rate)\n",
    "                    print(\"Learning rate: %f\" % learning_rate)\n",
    "                    print(\"Streaks: %d\" % num_streaks)\n",
    "                    print(\"Total reward: %f\" % total_reward)\n",
    "                    print(\"\")\n",
    "\n",
    "            # Render tha maze\n",
    "            if RENDER_MAZE:\n",
    "                env.render()\n",
    "\n",
    "            if env.is_game_over():\n",
    "                sys.exit()\n",
    "\n",
    "\n",
    "            if done:\n",
    "\n",
    "                state_0 = next_state\n",
    "\n",
    "                print(\"Episode %d finished after %f time steps with total reward = %f (streak %d).\"% (episode, t, total_reward, num_streaks))\n",
    "                num_streaks_copy = num_streaks\n",
    "                if t <= SOLVED_T:\n",
    "                    num_streaks += 1\n",
    "                else:\n",
    "                    num_streaks = 0\n",
    "                break\n",
    "\n",
    "            elif t >= MAX_T - 1:\n",
    "                print(\"Episode %d timed out at %d with total reward = %f.\" % (episode, t, total_reward))\n",
    "                \n",
    "                \n",
    "        # Find all (state, action) pairs we've visited in this episode\n",
    "        # We convert each state to a tuple so that we can use it as a dict key\n",
    "        sa_in_episode = set([(tuple(x[0]), x[1]) for x in episode_array])# o set remove repetidos\n",
    "        for state, action in sa_in_episode:\n",
    "            sa_pair = (state, action)\n",
    "            # Find the first occurance of the (state, action) pair in the episode\n",
    "            first_occurence_idx = next(i for i,x in enumerate(episode_array) if x[0] == state and x[1] == action)\n",
    "            # first_occurence_idx = -1\n",
    "            # for i,x in enumerate(episode_array):\n",
    "            #     import pdb;pdb.set_trace()\n",
    "            #     if x[0] == state and x[1] == action:\n",
    "            #         first_occurence_idx = i\n",
    "            #         break\n",
    "\n",
    "            # Sum up all rewards since the first occurance\n",
    "            G = sum([x[2]*(discount_factor**i) for i,x in enumerate(episode_array[first_occurence_idx:])])\n",
    "            # Calculate average return for this state over all sampled episodes\n",
    "\n",
    "            #import pdb;pdb.set_trace()\n",
    "            returns_sum[sa_pair] += G\n",
    "            returns_count[sa_pair] += 1.0\n",
    "            q_table[state_0 + (action,)] = returns_sum[sa_pair] / returns_count[sa_pair]\n",
    "\n",
    "    \n",
    "        # Appending Episode values to the list\n",
    "        reward_episode_list.append(total_reward)\n",
    "        explore_rate_episode_list.append(explore_rate)\n",
    "        learning_rate_episode_list.append(learning_rate)\n",
    "        num_streaks_episode_list.append(num_streaks_copy)\n",
    "        length_episode_list.append(t)\n",
    "\n",
    "        # It's considered done when it's solved over 120 times consecutively\n",
    "        if num_streaks > STREAK_TO_END:\n",
    "            break\n",
    "\n",
    "        # Update parameters\n",
    "        explore_rate = get_explore_rate(episode)\n",
    "        learning_rate = get_learning_rate(episode)\n",
    "\n",
    "\n",
    "    print(\"FINAL ACTION TABLE \\n\")\n",
    "    acts = [\"N\", \"S\", \"E\", \"W\"]\n",
    "    for i in range(q_table.shape[2]):\n",
    "        print(f\"Action {acts[i]} table \\n {q_table[:,:,i]}\\n\")\n",
    "\n",
    "    return (np.array(reward_episode_list),\n",
    "            np.array(explore_rate_episode_list),\n",
    "            np.array(learning_rate_episode_list),\n",
    "            np.array(num_streaks_episode_list),\n",
    "            np.array(length_episode_list))\n"
   ]
  },
  {
   "source": [
    "## Epsilon Greed Exploration"
   ],
   "cell_type": "markdown",
   "metadata": {}
  },
  {
   "cell_type": "code",
   "execution_count": 5,
   "metadata": {},
   "outputs": [],
   "source": [
    "def epsilon_greedy_police(state, explore_rate,q_table):\n",
    "    # Select a random action\n",
    "    if random.random() < explore_rate:\n",
    "        action = env.action_space.sample()\n",
    "    # Select the action with the highest q\n",
    "    else:\n",
    "        action = int(np.argmax(q_table[state]))\n",
    "    return action"
   ]
  },
  {
   "source": [
    "## Updating EXPLORE_RATE and LEARNING_RATE"
   ],
   "cell_type": "markdown",
   "metadata": {}
  },
  {
   "cell_type": "code",
   "execution_count": 6,
   "metadata": {},
   "outputs": [],
   "source": [
    "def get_explore_rate(t):\n",
    "    return max(MIN_EXPLORE_RATE, min(0.8, 1.0 - math.log10((t+1)/DECAY_FACTOR)))"
   ]
  },
  {
   "cell_type": "code",
   "execution_count": 7,
   "metadata": {},
   "outputs": [],
   "source": [
    "def get_learning_rate(t):\n",
    "    return max(MIN_LEARNING_RATE, min(0.8, 1.0 - math.log10((t+1)/DECAY_FACTOR)))"
   ]
  },
  {
   "source": [
    "## Function that returns the actual state"
   ],
   "cell_type": "markdown",
   "metadata": {}
  },
  {
   "cell_type": "code",
   "execution_count": 8,
   "metadata": {},
   "outputs": [],
   "source": [
    "def state_to_bucket(state):\n",
    "    bucket_indice = []\n",
    "    for i in range(len(state)):\n",
    "        if state[i] <= STATE_BOUNDS[i][0]:\n",
    "            bucket_index = 0\n",
    "        elif state[i] >= STATE_BOUNDS[i][1]:\n",
    "            bucket_index = NUM_BUCKETS[i] - 1\n",
    "        else:\n",
    "            # Mapping the state bounds to the bucket array\n",
    "            bound_width = STATE_BOUNDS[i][1] - STATE_BOUNDS[i][0]\n",
    "            offset = (NUM_BUCKETS[i]-1)*STATE_BOUNDS[i][0]/bound_width\n",
    "            scaling = (NUM_BUCKETS[i]-1)/bound_width\n",
    "            bucket_index = int(round(scaling*state[i] - offset))\n",
    "        bucket_indice.append(bucket_index)\n",
    "    return tuple(bucket_indice)"
   ]
  },
  {
   "source": [
    "## Running"
   ],
   "cell_type": "markdown",
   "metadata": {}
  },
  {
   "cell_type": "code",
   "execution_count": 15,
   "metadata": {
    "tags": []
   },
   "outputs": [
    {
     "output_type": "stream",
     "name": "stdout",
     "text": [
      "Episode 0 finished after 597.000000 time steps with total reward = 0.403000 (streak 0).\n",
      "Episode 1 finished after 9384.000000 time steps with total reward = -8.384000 (streak 0).\n",
      "Episode 2 finished after 6610.000000 time steps with total reward = -5.610000 (streak 0).\n",
      "Episode 3 timed out at 9999 with total reward = -10.000000.\n",
      "Episode 4 finished after 329.000000 time steps with total reward = 0.671000 (streak 0).\n",
      "Episode 5 finished after 94.000000 time steps with total reward = 0.906000 (streak 0).\n",
      "t 94 \n",
      " SOLVED_T 100\n",
      "Episode 6 finished after 436.000000 time steps with total reward = 0.564000 (streak 1).\n",
      "Episode 7 finished after 838.000000 time steps with total reward = 0.162000 (streak 0).\n",
      "Episode 8 finished after 421.000000 time steps with total reward = 0.579000 (streak 0).\n",
      "Episode 9 finished after 267.000000 time steps with total reward = 0.733000 (streak 0).\n",
      "Episode 10 finished after 223.000000 time steps with total reward = 0.777000 (streak 0).\n",
      "Episode 11 finished after 787.000000 time steps with total reward = 0.213000 (streak 0).\n",
      "Episode 12 finished after 391.000000 time steps with total reward = 0.609000 (streak 0).\n",
      "Episode 13 finished after 524.000000 time steps with total reward = 0.476000 (streak 0).\n",
      "Episode 14 finished after 192.000000 time steps with total reward = 0.808000 (streak 0).\n",
      "Episode 15 finished after 307.000000 time steps with total reward = 0.693000 (streak 0).\n",
      "Episode 16 finished after 478.000000 time steps with total reward = 0.522000 (streak 0).\n",
      "Episode 17 finished after 404.000000 time steps with total reward = 0.596000 (streak 0).\n",
      "Episode 18 finished after 84.000000 time steps with total reward = 0.916000 (streak 0).\n",
      "t 84 \n",
      " SOLVED_T 100\n",
      "Episode 19 finished after 124.000000 time steps with total reward = 0.876000 (streak 1).\n",
      "Episode 20 finished after 88.000000 time steps with total reward = 0.912000 (streak 0).\n",
      "t 88 \n",
      " SOLVED_T 100\n",
      "Episode 21 finished after 451.000000 time steps with total reward = 0.549000 (streak 1).\n",
      "Episode 22 finished after 133.000000 time steps with total reward = 0.867000 (streak 0).\n",
      "Episode 23 finished after 399.000000 time steps with total reward = 0.601000 (streak 0).\n",
      "Episode 24 finished after 339.000000 time steps with total reward = 0.661000 (streak 0).\n",
      "Episode 25 finished after 748.000000 time steps with total reward = 0.252000 (streak 0).\n",
      "Episode 26 finished after 396.000000 time steps with total reward = 0.604000 (streak 0).\n",
      "Episode 27 finished after 317.000000 time steps with total reward = 0.683000 (streak 0).\n",
      "Episode 28 finished after 752.000000 time steps with total reward = 0.248000 (streak 0).\n",
      "Episode 29 finished after 65.000000 time steps with total reward = 0.935000 (streak 0).\n",
      "t 65 \n",
      " SOLVED_T 100\n",
      "Episode 30 finished after 69.000000 time steps with total reward = 0.931000 (streak 1).\n",
      "t 69 \n",
      " SOLVED_T 100\n",
      "Episode 31 finished after 417.000000 time steps with total reward = 0.583000 (streak 2).\n",
      "Episode 32 finished after 605.000000 time steps with total reward = 0.395000 (streak 0).\n",
      "Episode 33 finished after 215.000000 time steps with total reward = 0.785000 (streak 0).\n",
      "Episode 34 finished after 457.000000 time steps with total reward = 0.543000 (streak 0).\n",
      "Episode 35 finished after 216.000000 time steps with total reward = 0.784000 (streak 0).\n",
      "Episode 36 finished after 422.000000 time steps with total reward = 0.578000 (streak 0).\n",
      "Episode 37 finished after 1011.000000 time steps with total reward = -0.011000 (streak 0).\n",
      "Episode 38 finished after 138.000000 time steps with total reward = 0.862000 (streak 0).\n",
      "Episode 39 finished after 355.000000 time steps with total reward = 0.645000 (streak 0).\n",
      "Episode 40 finished after 676.000000 time steps with total reward = 0.324000 (streak 0).\n",
      "Episode 41 finished after 313.000000 time steps with total reward = 0.687000 (streak 0).\n",
      "Episode 42 finished after 851.000000 time steps with total reward = 0.149000 (streak 0).\n",
      "Episode 43 finished after 109.000000 time steps with total reward = 0.891000 (streak 0).\n",
      "Episode 44 finished after 450.000000 time steps with total reward = 0.550000 (streak 0).\n",
      "Episode 45 finished after 607.000000 time steps with total reward = 0.393000 (streak 0).\n",
      "Episode 46 finished after 121.000000 time steps with total reward = 0.879000 (streak 0).\n",
      "Episode 47 finished after 903.000000 time steps with total reward = 0.097000 (streak 0).\n",
      "Episode 48 finished after 699.000000 time steps with total reward = 0.301000 (streak 0).\n",
      "Episode 49 finished after 389.000000 time steps with total reward = 0.611000 (streak 0).\n",
      "Episode 50 finished after 1073.000000 time steps with total reward = -0.073000 (streak 0).\n",
      "Episode 51 finished after 487.000000 time steps with total reward = 0.513000 (streak 0).\n",
      "Episode 52 finished after 322.000000 time steps with total reward = 0.678000 (streak 0).\n",
      "Episode 53 finished after 446.000000 time steps with total reward = 0.554000 (streak 0).\n",
      "Episode 54 finished after 1616.000000 time steps with total reward = -0.616000 (streak 0).\n",
      "Episode 55 finished after 360.000000 time steps with total reward = 0.640000 (streak 0).\n",
      "Episode 56 finished after 178.000000 time steps with total reward = 0.822000 (streak 0).\n",
      "Episode 57 finished after 8275.000000 time steps with total reward = -7.275000 (streak 0).\n",
      "Episode 58 finished after 1519.000000 time steps with total reward = -0.519000 (streak 0).\n",
      "Episode 59 finished after 479.000000 time steps with total reward = 0.521000 (streak 0).\n",
      "Episode 60 finished after 2742.000000 time steps with total reward = -1.742000 (streak 0).\n",
      "Episode 61 finished after 2750.000000 time steps with total reward = -1.750000 (streak 0).\n",
      "Episode 62 finished after 1371.000000 time steps with total reward = -0.371000 (streak 0).\n",
      "Episode 63 finished after 1712.000000 time steps with total reward = -0.712000 (streak 0).\n",
      "Episode 64 finished after 1126.000000 time steps with total reward = -0.126000 (streak 0).\n",
      "Episode 65 finished after 2077.000000 time steps with total reward = -1.077000 (streak 0).\n",
      "Episode 66 finished after 1666.000000 time steps with total reward = -0.666000 (streak 0).\n",
      "Episode 67 finished after 1132.000000 time steps with total reward = -0.132000 (streak 0).\n",
      "Episode 68 finished after 612.000000 time steps with total reward = 0.388000 (streak 0).\n",
      "Episode 69 finished after 881.000000 time steps with total reward = 0.119000 (streak 0).\n",
      "Episode 70 finished after 1413.000000 time steps with total reward = -0.413000 (streak 0).\n",
      "Episode 71 finished after 2078.000000 time steps with total reward = -1.078000 (streak 0).\n",
      "Episode 72 finished after 2383.000000 time steps with total reward = -1.383000 (streak 0).\n",
      "Episode 73 finished after 3215.000000 time steps with total reward = -2.215000 (streak 0).\n",
      "Episode 74 finished after 5305.000000 time steps with total reward = -4.305000 (streak 0).\n",
      "Episode 75 finished after 2530.000000 time steps with total reward = -1.530000 (streak 0).\n",
      "Episode 76 finished after 1195.000000 time steps with total reward = -0.195000 (streak 0).\n",
      "Episode 77 finished after 5468.000000 time steps with total reward = -4.468000 (streak 0).\n",
      "Episode 78 finished after 3708.000000 time steps with total reward = -2.708000 (streak 0).\n",
      "Episode 79 finished after 3695.000000 time steps with total reward = -2.695000 (streak 0).\n",
      "Episode 80 timed out at 9999 with total reward = -10.000000.\n",
      "Episode 81 timed out at 9999 with total reward = -10.000000.\n",
      "Episode 82 timed out at 9999 with total reward = -10.000000.\n",
      "Episode 83 timed out at 9999 with total reward = -10.000000.\n",
      "Episode 84 timed out at 9999 with total reward = -10.000000.\n",
      "Episode 85 timed out at 9999 with total reward = -10.000000.\n",
      "Episode 86 timed out at 9999 with total reward = -10.000000.\n",
      "Episode 87 timed out at 9999 with total reward = -10.000000.\n",
      "Episode 88 timed out at 9999 with total reward = -10.000000.\n",
      "Episode 89 timed out at 9999 with total reward = -10.000000.\n",
      "Episode 90 timed out at 9999 with total reward = -10.000000.\n",
      "Episode 91 timed out at 9999 with total reward = -10.000000.\n",
      "Episode 92 timed out at 9999 with total reward = -10.000000."
     ]
    },
    {
     "output_type": "error",
     "ename": "KeyboardInterrupt",
     "evalue": "",
     "traceback": [
      "\u001b[1;31m---------------------------------------------------------------------------\u001b[0m",
      "\u001b[1;31mKeyboardInterrupt\u001b[0m                         Traceback (most recent call last)",
      "\u001b[1;32m<ipython-input-15-0463bbb32c8d>\u001b[0m in \u001b[0;36m<module>\u001b[1;34m\u001b[0m\n\u001b[0;32m      1\u001b[0m \u001b[0mreward_episode_array\u001b[0m\u001b[1;33m,\u001b[0m\u001b[0mexplore_rate_episode_array\u001b[0m\u001b[1;33m,\u001b[0m\u001b[0mlearning_rate_episode_array\u001b[0m\u001b[1;33m,\u001b[0m\u001b[0mnum_streaks_episode_array\u001b[0m\u001b[1;33m,\u001b[0m\u001b[0mlength_episode_array\u001b[0m \u001b[1;33m=\u001b[0m\u001b[0;31m \u001b[0m\u001b[0;31m\\\u001b[0m\u001b[1;33m\u001b[0m\u001b[1;33m\u001b[0m\u001b[0m\n\u001b[1;32m----> 2\u001b[1;33m         \u001b[0msimulate\u001b[0m\u001b[1;33m(\u001b[0m\u001b[0mdiscount_factor\u001b[0m \u001b[1;33m=\u001b[0m \u001b[0mDISCOUNT_FACTOR\u001b[0m\u001b[1;33m)\u001b[0m\u001b[1;33m\u001b[0m\u001b[1;33m\u001b[0m\u001b[0m\n\u001b[0m\u001b[0;32m      3\u001b[0m \u001b[1;33m\u001b[0m\u001b[0m\n\u001b[0;32m      4\u001b[0m \u001b[1;32mif\u001b[0m \u001b[0mENABLE_RECORDING\u001b[0m\u001b[1;33m:\u001b[0m\u001b[1;33m\u001b[0m\u001b[1;33m\u001b[0m\u001b[0m\n\u001b[0;32m      5\u001b[0m     \u001b[0menv\u001b[0m\u001b[1;33m.\u001b[0m\u001b[0mmonitor\u001b[0m\u001b[1;33m.\u001b[0m\u001b[0mclose\u001b[0m\u001b[1;33m(\u001b[0m\u001b[1;33m)\u001b[0m\u001b[1;33m\u001b[0m\u001b[1;33m\u001b[0m\u001b[0m\n",
      "\u001b[1;32m<ipython-input-14-74304048cd80>\u001b[0m in \u001b[0;36msimulate\u001b[1;34m(discount_factor)\u001b[0m\n\u001b[0;32m    106\u001b[0m \u001b[1;33m\u001b[0m\u001b[0m\n\u001b[0;32m    107\u001b[0m             \u001b[1;32melif\u001b[0m \u001b[0mt\u001b[0m \u001b[1;33m>=\u001b[0m \u001b[0mMAX_T\u001b[0m \u001b[1;33m-\u001b[0m \u001b[1;36m1\u001b[0m\u001b[1;33m:\u001b[0m\u001b[1;33m\u001b[0m\u001b[1;33m\u001b[0m\u001b[0m\n\u001b[1;32m--> 108\u001b[1;33m                 \u001b[0mprint\u001b[0m\u001b[1;33m(\u001b[0m\u001b[1;34m\"Episode %d timed out at %d with total reward = %f.\"\u001b[0m \u001b[1;33m%\u001b[0m \u001b[1;33m(\u001b[0m\u001b[0mepisode\u001b[0m\u001b[1;33m,\u001b[0m \u001b[0mt\u001b[0m\u001b[1;33m,\u001b[0m \u001b[0mtotal_reward\u001b[0m\u001b[1;33m)\u001b[0m\u001b[1;33m)\u001b[0m\u001b[1;33m\u001b[0m\u001b[1;33m\u001b[0m\u001b[0m\n\u001b[0m\u001b[0;32m    109\u001b[0m \u001b[1;33m\u001b[0m\u001b[0m\n\u001b[0;32m    110\u001b[0m \u001b[1;33m\u001b[0m\u001b[0m\n",
      "\u001b[1;32m~\\AppData\\Local\\Continuum\\anaconda3\\lib\\site-packages\\ipykernel\\iostream.py\u001b[0m in \u001b[0;36mwrite\u001b[1;34m(self, string)\u001b[0m\n\u001b[0;32m    402\u001b[0m             \u001b[0mis_child\u001b[0m \u001b[1;33m=\u001b[0m \u001b[1;33m(\u001b[0m\u001b[1;32mnot\u001b[0m \u001b[0mself\u001b[0m\u001b[1;33m.\u001b[0m\u001b[0m_is_master_process\u001b[0m\u001b[1;33m(\u001b[0m\u001b[1;33m)\u001b[0m\u001b[1;33m)\u001b[0m\u001b[1;33m\u001b[0m\u001b[1;33m\u001b[0m\u001b[0m\n\u001b[0;32m    403\u001b[0m             \u001b[1;31m# only touch the buffer in the IO thread to avoid races\u001b[0m\u001b[1;33m\u001b[0m\u001b[1;33m\u001b[0m\u001b[1;33m\u001b[0m\u001b[0m\n\u001b[1;32m--> 404\u001b[1;33m             \u001b[0mself\u001b[0m\u001b[1;33m.\u001b[0m\u001b[0mpub_thread\u001b[0m\u001b[1;33m.\u001b[0m\u001b[0mschedule\u001b[0m\u001b[1;33m(\u001b[0m\u001b[1;32mlambda\u001b[0m \u001b[1;33m:\u001b[0m \u001b[0mself\u001b[0m\u001b[1;33m.\u001b[0m\u001b[0m_buffer\u001b[0m\u001b[1;33m.\u001b[0m\u001b[0mwrite\u001b[0m\u001b[1;33m(\u001b[0m\u001b[0mstring\u001b[0m\u001b[1;33m)\u001b[0m\u001b[1;33m)\u001b[0m\u001b[1;33m\u001b[0m\u001b[1;33m\u001b[0m\u001b[0m\n\u001b[0m\u001b[0;32m    405\u001b[0m             \u001b[1;32mif\u001b[0m \u001b[0mis_child\u001b[0m\u001b[1;33m:\u001b[0m\u001b[1;33m\u001b[0m\u001b[1;33m\u001b[0m\u001b[0m\n\u001b[0;32m    406\u001b[0m                 \u001b[1;31m# mp.Pool cannot be trusted to flush promptly (or ever),\u001b[0m\u001b[1;33m\u001b[0m\u001b[1;33m\u001b[0m\u001b[1;33m\u001b[0m\u001b[0m\n",
      "\u001b[1;32m~\\AppData\\Local\\Continuum\\anaconda3\\lib\\site-packages\\ipykernel\\iostream.py\u001b[0m in \u001b[0;36mschedule\u001b[1;34m(self, f)\u001b[0m\n\u001b[0;32m    203\u001b[0m             \u001b[0mself\u001b[0m\u001b[1;33m.\u001b[0m\u001b[0m_events\u001b[0m\u001b[1;33m.\u001b[0m\u001b[0mappend\u001b[0m\u001b[1;33m(\u001b[0m\u001b[0mf\u001b[0m\u001b[1;33m)\u001b[0m\u001b[1;33m\u001b[0m\u001b[1;33m\u001b[0m\u001b[0m\n\u001b[0;32m    204\u001b[0m             \u001b[1;31m# wake event thread (message content is ignored)\u001b[0m\u001b[1;33m\u001b[0m\u001b[1;33m\u001b[0m\u001b[1;33m\u001b[0m\u001b[0m\n\u001b[1;32m--> 205\u001b[1;33m             \u001b[0mself\u001b[0m\u001b[1;33m.\u001b[0m\u001b[0m_event_pipe\u001b[0m\u001b[1;33m.\u001b[0m\u001b[0msend\u001b[0m\u001b[1;33m(\u001b[0m\u001b[1;34mb''\u001b[0m\u001b[1;33m)\u001b[0m\u001b[1;33m\u001b[0m\u001b[1;33m\u001b[0m\u001b[0m\n\u001b[0m\u001b[0;32m    206\u001b[0m         \u001b[1;32melse\u001b[0m\u001b[1;33m:\u001b[0m\u001b[1;33m\u001b[0m\u001b[1;33m\u001b[0m\u001b[0m\n\u001b[0;32m    207\u001b[0m             \u001b[0mf\u001b[0m\u001b[1;33m(\u001b[0m\u001b[1;33m)\u001b[0m\u001b[1;33m\u001b[0m\u001b[1;33m\u001b[0m\u001b[0m\n",
      "\u001b[1;32m~\\AppData\\Local\\Continuum\\anaconda3\\lib\\site-packages\\zmq\\sugar\\socket.py\u001b[0m in \u001b[0;36msend\u001b[1;34m(self, data, flags, copy, track, routing_id, group)\u001b[0m\n\u001b[0;32m    398\u001b[0m                                  copy_threshold=self.copy_threshold)\n\u001b[0;32m    399\u001b[0m             \u001b[0mdata\u001b[0m\u001b[1;33m.\u001b[0m\u001b[0mgroup\u001b[0m \u001b[1;33m=\u001b[0m \u001b[0mgroup\u001b[0m\u001b[1;33m\u001b[0m\u001b[1;33m\u001b[0m\u001b[0m\n\u001b[1;32m--> 400\u001b[1;33m         \u001b[1;32mreturn\u001b[0m \u001b[0msuper\u001b[0m\u001b[1;33m(\u001b[0m\u001b[0mSocket\u001b[0m\u001b[1;33m,\u001b[0m \u001b[0mself\u001b[0m\u001b[1;33m)\u001b[0m\u001b[1;33m.\u001b[0m\u001b[0msend\u001b[0m\u001b[1;33m(\u001b[0m\u001b[0mdata\u001b[0m\u001b[1;33m,\u001b[0m \u001b[0mflags\u001b[0m\u001b[1;33m=\u001b[0m\u001b[0mflags\u001b[0m\u001b[1;33m,\u001b[0m \u001b[0mcopy\u001b[0m\u001b[1;33m=\u001b[0m\u001b[0mcopy\u001b[0m\u001b[1;33m,\u001b[0m \u001b[0mtrack\u001b[0m\u001b[1;33m=\u001b[0m\u001b[0mtrack\u001b[0m\u001b[1;33m)\u001b[0m\u001b[1;33m\u001b[0m\u001b[1;33m\u001b[0m\u001b[0m\n\u001b[0m\u001b[0;32m    401\u001b[0m \u001b[1;33m\u001b[0m\u001b[0m\n\u001b[0;32m    402\u001b[0m     \u001b[1;32mdef\u001b[0m \u001b[0msend_multipart\u001b[0m\u001b[1;33m(\u001b[0m\u001b[0mself\u001b[0m\u001b[1;33m,\u001b[0m \u001b[0mmsg_parts\u001b[0m\u001b[1;33m,\u001b[0m \u001b[0mflags\u001b[0m\u001b[1;33m=\u001b[0m\u001b[1;36m0\u001b[0m\u001b[1;33m,\u001b[0m \u001b[0mcopy\u001b[0m\u001b[1;33m=\u001b[0m\u001b[1;32mTrue\u001b[0m\u001b[1;33m,\u001b[0m \u001b[0mtrack\u001b[0m\u001b[1;33m=\u001b[0m\u001b[1;32mFalse\u001b[0m\u001b[1;33m,\u001b[0m \u001b[1;33m**\u001b[0m\u001b[0mkwargs\u001b[0m\u001b[1;33m)\u001b[0m\u001b[1;33m:\u001b[0m\u001b[1;33m\u001b[0m\u001b[1;33m\u001b[0m\u001b[0m\n",
      "\u001b[1;32mzmq/backend/cython/socket.pyx\u001b[0m in \u001b[0;36mzmq.backend.cython.socket.Socket.send\u001b[1;34m()\u001b[0m\n",
      "\u001b[1;32mzmq/backend/cython/socket.pyx\u001b[0m in \u001b[0;36mzmq.backend.cython.socket.Socket.send\u001b[1;34m()\u001b[0m\n",
      "\u001b[1;32mzmq/backend/cython/socket.pyx\u001b[0m in \u001b[0;36mzmq.backend.cython.socket._send_copy\u001b[1;34m()\u001b[0m\n",
      "\u001b[1;32m~\\AppData\\Local\\Continuum\\anaconda3\\lib\\site-packages\\zmq\\backend\\cython\\checkrc.pxd\u001b[0m in \u001b[0;36mzmq.backend.cython.checkrc._check_rc\u001b[1;34m()\u001b[0m\n",
      "\u001b[1;31mKeyboardInterrupt\u001b[0m: "
     ]
    }
   ],
   "source": [
    "reward_episode_array,explore_rate_episode_array,learning_rate_episode_array,num_streaks_episode_array,length_episode_array = \\\n",
    "        simulate(discount_factor = DISCOUNT_FACTOR)\n",
    "\n",
    "if ENABLE_RECORDING:\n",
    "    env.monitor.close()"
   ]
  },
  {
   "cell_type": "code",
   "execution_count": 25,
   "metadata": {},
   "outputs": [
    {
     "output_type": "error",
     "ename": "NameError",
     "evalue": "name 'num_streaks_episode_array' is not defined",
     "traceback": [
      "\u001b[1;31m---------------------------------------------------------------------------\u001b[0m",
      "\u001b[1;31mNameError\u001b[0m                                 Traceback (most recent call last)",
      "\u001b[1;32m<ipython-input-25-c1880aeed2a7>\u001b[0m in \u001b[0;36m<module>\u001b[1;34m\u001b[0m\n\u001b[0;32m      1\u001b[0m \u001b[0mgraph_saving_path\u001b[0m \u001b[1;33m=\u001b[0m \u001b[0mos\u001b[0m\u001b[1;33m.\u001b[0m\u001b[0mpath\u001b[0m\u001b[1;33m.\u001b[0m\u001b[0mjoin\u001b[0m\u001b[1;33m(\u001b[0m\u001b[0mSAVING_RESULTS_IMAGE_FODLER\u001b[0m\u001b[1;33m,\u001b[0m\u001b[1;34m\"reward_episode\"\u001b[0m\u001b[1;33m)\u001b[0m\u001b[1;33m\u001b[0m\u001b[1;33m\u001b[0m\u001b[0m\n\u001b[1;32m----> 2\u001b[1;33m plot_line_graphs_overlayed(x_list = [range(NUM_EPISODES)[:len(num_streaks_episode_array)]],\n\u001b[0m\u001b[0;32m      3\u001b[0m                             \u001b[0my_list\u001b[0m \u001b[1;33m=\u001b[0m \u001b[1;33m[\u001b[0m\u001b[0mreward_episode_array\u001b[0m\u001b[1;33m]\u001b[0m\u001b[1;33m,\u001b[0m\u001b[1;33m\u001b[0m\u001b[1;33m\u001b[0m\u001b[0m\n\u001b[0;32m      4\u001b[0m                             \u001b[0mx_axe_name\u001b[0m\u001b[1;33m=\u001b[0m\u001b[1;34m\"Episode\"\u001b[0m\u001b[1;33m,\u001b[0m\u001b[1;33m\u001b[0m\u001b[1;33m\u001b[0m\u001b[0m\n\u001b[0;32m      5\u001b[0m                             \u001b[0my_axe_name\u001b[0m\u001b[1;33m=\u001b[0m\u001b[1;34m\"Reward\"\u001b[0m\u001b[1;33m,\u001b[0m\u001b[1;33m\u001b[0m\u001b[1;33m\u001b[0m\u001b[0m\n",
      "\u001b[1;31mNameError\u001b[0m: name 'num_streaks_episode_array' is not defined"
     ]
    }
   ],
   "source": [
    "graph_saving_path = os.path.join(SAVING_RESULTS_IMAGE_FODLER,\"reward_episode\")\n",
    "plot_line_graphs_overlayed(x_list = [range(NUM_EPISODES)[:len(num_streaks_episode_array)]],\n",
    "                            y_list = [reward_episode_array],\n",
    "                            x_axe_name=\"Episode\", \n",
    "                            y_axe_name=\"Reward\",\n",
    "                            legends = [\"None_Marker\"],\n",
    "                            title = \"MC: Episode Reward by episode\" ,\n",
    "                            graph_saving_path = graph_saving_path)\n",
    "\n",
    "\n",
    "graph_saving_path = os.path.join(SAVING_RESULTS_IMAGE_FODLER,\"explore_rate_episode_array\")\n",
    "plot_line_graphs_overlayed(x_list = [range(NUM_EPISODES)[:len(num_streaks_episode_array)]],\n",
    "                            y_list = [explore_rate_episode_array],\n",
    "                            x_axe_name=\"Episode\", \n",
    "                            y_axe_name=\"Exploration Rate\",\n",
    "                            legends = [\"None_Marker\"],\n",
    "                            title = \"MC: Exploration Rate by episode\" ,\n",
    "                            graph_saving_path = graph_saving_path)\n",
    "\n",
    "\n",
    "graph_saving_path = os.path.join(SAVING_RESULTS_IMAGE_FODLER,\"learning_rate_episode_array\")\n",
    "plot_line_graphs_overlayed(x_list = [range(NUM_EPISODES)[:len(num_streaks_episode_array)]],\n",
    "                            y_list = [learning_rate_episode_array],\n",
    "                            x_axe_name=\"Episode\", \n",
    "                            y_axe_name=\"Learning Rate\",\n",
    "                            legends = [\"None_Marker\"],\n",
    "                            title = \"MC: Learning Rate by episode\" ,\n",
    "                            graph_saving_path = graph_saving_path)\n",
    "\n",
    "\n",
    "graph_saving_path = os.path.join(SAVING_RESULTS_IMAGE_FODLER,\"num_streaks_episode_array\")\n",
    "plot_line_graphs_overlayed(x_list =[range(NUM_EPISODES)[:len(num_streaks_episode_array)]],\n",
    "                            y_list = [num_streaks_episode_array],\n",
    "                            x_axe_name=\"Episode\", \n",
    "                            y_axe_name=\"Number of streaks\",\n",
    "                            legends = [\"None_Marker\"],\n",
    "                            title = \"MC: Number of streaks by episode\" ,\n",
    "                            graph_saving_path = graph_saving_path)\n",
    "\n",
    "\n",
    "graph_saving_path = os.path.join(SAVING_RESULTS_IMAGE_FODLER,\"length_episode_array\")\n",
    "plot_line_graphs_overlayed(x_list = [range(NUM_EPISODES)[:len(num_streaks_episode_array)]],\n",
    "                            y_list = [length_episode_array],\n",
    "                            x_axe_name=\"Episode\", \n",
    "                            y_axe_name=\"Length of episode\",\n",
    "                            legends = [\"None_Marker\"],\n",
    "                            title = \"MC: Length of episode by episode\" ,\n",
    "                            graph_saving_path = graph_saving_path)"
   ]
  },
  {
   "source": [
    "## Saving numpy arrays from results"
   ],
   "cell_type": "markdown",
   "metadata": {}
  },
  {
   "cell_type": "code",
   "execution_count": 11,
   "metadata": {},
   "outputs": [
    {
     "output_type": "stream",
     "name": "stdout",
     "text": [
      "reward_episode Shape:  (119,)\nexplore_rate Shape:  (119,)\nlearning_rate Shape:  (119,)\nnum_streaks Shape:  (119,)\nlength_episode Shape:  (119,)\n"
     ]
    }
   ],
   "source": [
    "save_nparray_to_folder(reward_episode_array,SAVING_RESULTS_ARRAY_FODLER,\"reward_episode\")\n",
    "save_nparray_to_folder(explore_rate_episode_array,SAVING_RESULTS_ARRAY_FODLER,\"explore_rate\")\n",
    "save_nparray_to_folder(learning_rate_episode_array,SAVING_RESULTS_ARRAY_FODLER,\"learning_rate\")\n",
    "save_nparray_to_folder(num_streaks_episode_array,SAVING_RESULTS_ARRAY_FODLER,\"num_streaks\")\n",
    "save_nparray_to_folder(length_episode_array,SAVING_RESULTS_ARRAY_FODLER,\"length_episode\")"
   ]
  }
 ],
 "metadata": {
  "kernelspec": {
   "display_name": "Python 3",
   "language": "python",
   "name": "python3"
  },
  "language_info": {
   "codemirror_mode": {
    "name": "ipython",
    "version": 3
   },
   "file_extension": ".py",
   "mimetype": "text/x-python",
   "name": "python",
   "nbconvert_exporter": "python",
   "pygments_lexer": "ipython3",
   "version": "3.7.4-final"
  }
 },
 "nbformat": 4,
 "nbformat_minor": 2
}